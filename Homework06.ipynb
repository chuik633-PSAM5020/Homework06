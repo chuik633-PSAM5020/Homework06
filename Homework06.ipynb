{
 "cells": [
  {
   "cell_type": "markdown",
   "metadata": {
    "id": "QshK8s21WBrf"
   },
   "source": [
    "# Homework06\n",
    "\n",
    "Exercises to practice pandas, data analysis and regression\n",
    "\n",
    "## Goals\n",
    "\n",
    "- Understand the effects of pre-processing data\n",
    "- Get familiar with the ML flow: encode -> normalize -> train -> evaluate\n",
    "- Understand the difference between regression and classification tasks\n",
    "- Build an intuition for different regression models"
   ]
  },
  {
   "cell_type": "markdown",
   "metadata": {
    "id": "7Hf8SXUwWOho"
   },
   "source": [
    "### Setup\n",
    "\n",
    "Run the following 2 cells to import all necessary libraries and helpers for this homework."
   ]
  },
  {
   "cell_type": "code",
   "execution_count": null,
   "metadata": {},
   "outputs": [],
   "source": [
    "!wget -q https://github.com/PSAM-5020-2025S-A/5020-utils/raw/main/src/data_utils.py"
   ]
  },
  {
   "cell_type": "code",
   "execution_count": null,
   "metadata": {},
   "outputs": [],
   "source": [
    "import matplotlib.pyplot as plt\n",
    "import pandas as pd\n",
    "\n",
    "from sklearn.preprocessing import OrdinalEncoder\n",
    "\n",
    "from data_utils import object_from_json_url\n",
    "from data_utils import StandardScaler\n",
    "from data_utils import LinearRegression, SGDRegressor\n",
    "from data_utils import regression_error"
   ]
  },
  {
   "cell_type": "markdown",
   "metadata": {},
   "source": [
    "### Load Dataset\n",
    "\n",
    "Let's load up the full [ANSUR](https://www.openlab.psu.edu/ansur2/) dataset that we looked at briefly in [Week 02](https://github.com/DM-GY-9103-2024F-H/WK02).\n",
    "\n",
    "This is the dataset that has anthropometric information about U.S. Army personnel."
   ]
  },
  {
   "cell_type": "code",
   "execution_count": null,
   "metadata": {},
   "outputs": [],
   "source": [
    "# Load Dataset\n",
    "ANSUR_FILE = \"https://raw.githubusercontent.com/PSAM-5020-2025S-A/5020-utils/main/datasets/json/ansur.json\"\n",
    "ansur_data = object_from_json_url(ANSUR_FILE)\n",
    "\n",
    "# Look at first 2 records\n",
    "ansur_data[:2]"
   ]
  },
  {
   "cell_type": "markdown",
   "metadata": {},
   "source": [
    "#### Nested data\n",
    "\n",
    "This is that *nested* dataset from Week 02.\n",
    "\n",
    "# 🤔\n",
    "\n",
    "Let's load it into a `DataFrame` to see what happens."
   ]
  },
  {
   "cell_type": "code",
   "execution_count": null,
   "metadata": {},
   "outputs": [],
   "source": [
    "# Read into DataFrame\n",
    "ansur_df = pd.DataFrame.from_records(ansur_data)\n",
    "ansur_df.head()"
   ]
  },
  {
   "cell_type": "markdown",
   "metadata": {},
   "source": [
    "\n",
    "# 😓🙄\n",
    "\n",
    "That didn't work too well. We ended up with objects in our columns.\n",
    "\n",
    "Luckily, our `DataFrame` library has a function called [`json_normalize()`](https://pandas.pydata.org/pandas-docs/stable/reference/api/pandas.json_normalize.html) that can help."
   ]
  },
  {
   "cell_type": "code",
   "execution_count": null,
   "metadata": {},
   "outputs": [],
   "source": [
    "# Read into DataFrame\n",
    "ansur_df = pd.json_normalize(ansur_data)\n",
    "ansur_df.head()"
   ]
  },
  {
   "cell_type": "markdown",
   "metadata": {},
   "source": [
    "Much better. `DataFrames` are magic.\n",
    "\n",
    "#### Data Exploration\n",
    "\n",
    "Before we start creating models, let's do a little bit of data analysis and get a feeling for the shapes, distributions and relationships of our data.\n",
    "\n",
    "1. Print `min`, `max` and `average` values for all of the features.\n",
    "2. Print `covariance` tables for `age`, `ear.length` and `head.circumference`.\n",
    "3. Plot `age`, `ear.length` and `head.circumference` versus the $1$ *feature* that is most correlated to each of them.\n",
    "\n",
    "Don't forget to *encode* and *normalize* the data."
   ]
  },
  {
   "cell_type": "code",
   "execution_count": null,
   "metadata": {
    "tags": [
     "work_cell"
    ]
   },
   "outputs": [],
   "source": [
    "# Work on Data Exploration here\n",
    "\n",
    "### Encode non-numerical features\n",
    "ansur_df_num = ansur_df.drop('gender', axis = 1)\n",
    "\n",
    "# ## 1. Print min, max, avg\n",
    "for feature in ansur_df_num.columns:\n",
    "    print(\"column\", feature)\n",
    "    print(\"• min:\", ansur_df_num[feature].min())\n",
    "    print(\"• max:\", ansur_df_num[feature].max())\n",
    "    print(\"• avg:\", ansur_df_num[feature].mean())\n",
    "\n",
    "### Normalize all data\n",
    "ansur_encoder = OrdinalEncoder(categories = [['F', \"M\"]]) #categorical vals\n",
    "g_vals = ansur_encoder.fit_transform(ansur_df[['gender']].values)\n",
    "ansur_df[['gender']]=g_vals #set the scaled values\n",
    "ansur_df.head()\n",
    "\n",
    "ansur_scalar = StandardScaler() #works numerical vals (and the encoded categorical ones)\n",
    "scaled_df = ansur_scalar.fit_transform(ansur_df)\n",
    "\n",
    "\n",
    "\n",
    "# ## 2. Print Covariances\n",
    "print(scaled_df.head())\n",
    "print(scaled_df.cov())\n",
    "    \n",
    "\n",
    "# ## 3. Plot features most correlated to age, ear length and head circumference\n",
    "for feature in ['age', 'ear.length', 'head.circumference']:\n",
    "    print(\"----\", feature,\"----\")\n",
    "    highest_correlated = scaled_df.cov().abs()[feature].nlargest(3)[1:]\n",
    "    print(feature, highest_correlated)\n",
    "    highest_correlated_feature_names = [val for val in highest_correlated.index.tolist()]\n",
    "    for cor_feature in highest_correlated_feature_names:\n",
    "        # do i look at the unscaled or scaled version of the df here?\n",
    "        plt.scatter(scaled_df[cor_feature], scaled_df[feature], alpha=.1)\n",
    "        plt.xlabel(cor_feature)\n",
    "        plt.ylabel(feature)\n",
    "        plt.show()\n",
    "\n",
    "    "
   ]
  },
  {
   "cell_type": "markdown",
   "metadata": {},
   "source": [
    "### Interpretation\n",
    "\n",
    "<span style=\"color:hotpink;\">\n",
    "Does anything stand out about these graphs? Or the correlations?<br>\n",
    "Are correlations symmetric? Does the feature most correlated to ear length also have ear length as its most correlated pair?\n",
    "</span>\n",
    "\n",
    "\n",
    "<span style=\"color:green;\">\n",
    "Age: It's interesting that ear length is correlated with age, I didn't know ears got longer? It makes sense to me that age and weight are correlated.\n",
    "\n",
    "EarLength: this is correlated with weight and hand breadth. It may be that ear length and weight are both correlated with age which would be their connection, but I'm a little confused why age didn't show up as the most correlated.\n",
    "\n",
    "Head circumference: this correlation is one of the strongest with head height which makes alot of sense. We see this in the plot as it trends upwards.\n",
    "\n",
    "The correlations don't seem to be symmetric.\n",
    "</span>"
   ]
  },
  {
   "cell_type": "markdown",
   "metadata": {
    "tags": [
     "work_cell"
    ]
   },
   "source": [
    "<span style=\"color:hotpink;\">EDIT THIS CELL WITH ANSWER</span>"
   ]
  },
  {
   "cell_type": "markdown",
   "metadata": {},
   "source": [
    "### Regression\n",
    "\n",
    "Now, we want to create a regression model to predict `head.circumference` from the data.\n",
    "\n",
    "From our [Week 06](https://github.com/PSAM-5020-2025S-A/WK06) notebook, we can create a regression model by following these steps:\n",
    "\n",
    "1. Load dataset (done! 🎉)\n",
    "2. Encode label features as numbers (done! ⚡️)\n",
    "3. Normalize the data (done! 🍾)\n",
    "4. Separate the outcome variable and the input features\n",
    "5. Create a regression model using all features\n",
    "6. Run model on training data and measure error\n",
    "7. Plot predictions and interpret results\n",
    "8. Run model on test data, measure error, plot predictions, interpret results"
   ]
  },
  {
   "cell_type": "code",
   "execution_count": 77,
   "metadata": {
    "tags": [
     "work_cell"
    ]
   },
   "outputs": [
    {
     "name": "stdout",
     "output_type": "stream",
     "text": [
      "13.910571985204234\n"
     ]
    },
    {
     "data": {
      "image/png": "[encoded data removed]",
      "text/plain": [
       "<Figure size 640x480 with 1 Axes>"
      ]
     },
     "metadata": {},
     "output_type": "display_data"
    }
   ],
   "source": [
    "# Work on Regression Model here\n",
    "\n",
    "## Separate outcome variable and input features\n",
    "feature_names = [feat for feat in ansur_df if feat !='head.circumference']\n",
    "features = scaled_df[feature_names]\n",
    "head_circumferences = scaled_df['head.circumference']\n",
    "\n",
    "## Create a regression model\n",
    "model = LinearRegression()\n",
    "model.fit(features,head_circumferences)\n",
    "\n",
    "## Measure error on training data\n",
    "predicted_scaled = model.predict(features)\n",
    "predicted = ansur_scalar.inverse_transform(predicted_scaled) #unnormalize\n",
    "\n",
    "## Plot predictions and interpret results\n",
    "print(regression_error(ansur_df['head.circumference'], predicted['head.circumference']))\n",
    "\n",
    "# Plot the predictions\n",
    "original = ansur_df[\"head.circumference\"]\n",
    "predicted = predicted[\"head.circumference\"]\n",
    "plt.plot(sorted(original), marker='o', linestyle='', alpha=0.3)\n",
    "plt.plot(sorted(predicted), marker='o', linestyle='', alpha=0.3)\n",
    "plt.ylabel(\"head circ\")\n",
    "plt.show()\n"
   ]
  },
  {
   "cell_type": "code",
   "execution_count": 78,
   "metadata": {},
   "outputs": [
    {
     "data": {
      "text/html": [
       "<div>\n",
       "<style scoped>\n",
       "    .dataframe tbody tr th:only-of-type {\n",
       "        vertical-align: middle;\n",
       "    }\n",
       "\n",
       "    .dataframe tbody tr th {\n",
       "        vertical-align: top;\n",
       "    }\n",
       "\n",
       "    .dataframe thead th {\n",
       "        text-align: right;\n",
       "    }\n",
       "</style>\n",
       "<table border=\"1\" class=\"dataframe\">\n",
       "  <thead>\n",
       "    <tr style=\"text-align: right;\">\n",
       "      <th></th>\n",
       "      <th>age</th>\n",
       "      <th>gender</th>\n",
       "      <th>height</th>\n",
       "      <th>weight</th>\n",
       "      <th>span</th>\n",
       "      <th>stature</th>\n",
       "      <th>ear.breadth</th>\n",
       "      <th>ear.length</th>\n",
       "      <th>ear.protrusion</th>\n",
       "      <th>foot.breadth</th>\n",
       "      <th>foot.length</th>\n",
       "      <th>hand.breadth</th>\n",
       "      <th>hand.length</th>\n",
       "      <th>hand.palm</th>\n",
       "      <th>head.height</th>\n",
       "      <th>head.circumference</th>\n",
       "    </tr>\n",
       "  </thead>\n",
       "  <tbody>\n",
       "    <tr>\n",
       "      <th>0</th>\n",
       "      <td>-1.125304</td>\n",
       "      <td>0.697563</td>\n",
       "      <td>0.452954</td>\n",
       "      <td>-0.727781</td>\n",
       "      <td>-0.123494</td>\n",
       "      <td>0.263447</td>\n",
       "      <td>0.270940</td>\n",
       "      <td>0.489559</td>\n",
       "      <td>-0.716543</td>\n",
       "      <td>0.022439</td>\n",
       "      <td>-0.056985</td>\n",
       "      <td>0.324677</td>\n",
       "      <td>0.499217</td>\n",
       "      <td>-0.128919</td>\n",
       "      <td>0.491695</td>\n",
       "      <td>-0.821259</td>\n",
       "    </tr>\n",
       "    <tr>\n",
       "      <th>1</th>\n",
       "      <td>1.068641</td>\n",
       "      <td>-1.433562</td>\n",
       "      <td>-1.356093</td>\n",
       "      <td>-1.113032</td>\n",
       "      <td>-0.988637</td>\n",
       "      <td>-1.457006</td>\n",
       "      <td>-0.973228</td>\n",
       "      <td>-0.132009</td>\n",
       "      <td>-1.664859</td>\n",
       "      <td>-1.030966</td>\n",
       "      <td>-0.803796</td>\n",
       "      <td>-1.091728</td>\n",
       "      <td>-0.283552</td>\n",
       "      <td>-0.269102</td>\n",
       "      <td>-0.183119</td>\n",
       "      <td>-0.821259</td>\n",
       "    </tr>\n",
       "    <tr>\n",
       "      <th>2</th>\n",
       "      <td>-0.778892</td>\n",
       "      <td>0.697563</td>\n",
       "      <td>-0.322352</td>\n",
       "      <td>-0.727781</td>\n",
       "      <td>0.318090</td>\n",
       "      <td>0.119151</td>\n",
       "      <td>1.515107</td>\n",
       "      <td>0.075180</td>\n",
       "      <td>-0.716543</td>\n",
       "      <td>-0.429021</td>\n",
       "      <td>0.689826</td>\n",
       "      <td>0.796812</td>\n",
       "      <td>1.108038</td>\n",
       "      <td>1.132731</td>\n",
       "      <td>0.744751</td>\n",
       "      <td>-0.166993</td>\n",
       "    </tr>\n",
       "    <tr>\n",
       "      <th>3</th>\n",
       "      <td>0.260345</td>\n",
       "      <td>0.697563</td>\n",
       "      <td>0.194519</td>\n",
       "      <td>0.161260</td>\n",
       "      <td>0.354138</td>\n",
       "      <td>0.174650</td>\n",
       "      <td>-1.284270</td>\n",
       "      <td>0.489559</td>\n",
       "      <td>0.547878</td>\n",
       "      <td>0.473898</td>\n",
       "      <td>0.115356</td>\n",
       "      <td>0.324677</td>\n",
       "      <td>0.238294</td>\n",
       "      <td>0.431814</td>\n",
       "      <td>-0.436174</td>\n",
       "      <td>0.868927</td>\n",
       "    </tr>\n",
       "    <tr>\n",
       "      <th>4</th>\n",
       "      <td>-1.125304</td>\n",
       "      <td>0.697563</td>\n",
       "      <td>1.486695</td>\n",
       "      <td>-0.135087</td>\n",
       "      <td>1.111138</td>\n",
       "      <td>1.195822</td>\n",
       "      <td>0.581982</td>\n",
       "      <td>0.903938</td>\n",
       "      <td>2.760615</td>\n",
       "      <td>0.925357</td>\n",
       "      <td>0.804720</td>\n",
       "      <td>-0.147458</td>\n",
       "      <td>0.760141</td>\n",
       "      <td>0.992547</td>\n",
       "      <td>-1.364043</td>\n",
       "      <td>-0.766737</td>\n",
       "    </tr>\n",
       "  </tbody>\n",
       "</table>\n",
       "</div>"
      ],
      "text/plain": [
       "        age    gender    height    weight      span   stature  ear.breadth  \\\n",
       "0 -1.125304  0.697563  0.452954 -0.727781 -0.123494  0.263447     0.270940   \n",
       "1  1.068641 -1.433562 -1.356093 -1.113032 -0.988637 -1.457006    -0.973228   \n",
       "2 -0.778892  0.697563 -0.322352 -0.727781  0.318090  0.119151     1.515107   \n",
       "3  0.260345  0.697563  0.194519  0.161260  0.354138  0.174650    -1.284270   \n",
       "4 -1.125304  0.697563  1.486695 -0.135087  1.111138  1.195822     0.581982   \n",
       "\n",
       "   ear.length  ear.protrusion  foot.breadth  foot.length  hand.breadth  \\\n",
       "0    0.489559       -0.716543      0.022439    -0.056985      0.324677   \n",
       "1   -0.132009       -1.664859     -1.030966    -0.803796     -1.091728   \n",
       "2    0.075180       -0.716543     -0.429021     0.689826      0.796812   \n",
       "3    0.489559        0.547878      0.473898     0.115356      0.324677   \n",
       "4    0.903938        2.760615      0.925357     0.804720     -0.147458   \n",
       "\n",
       "   hand.length  hand.palm  head.height  head.circumference  \n",
       "0     0.499217  -0.128919     0.491695           -0.821259  \n",
       "1    -0.283552  -0.269102    -0.183119           -0.821259  \n",
       "2     1.108038   1.132731     0.744751           -0.166993  \n",
       "3     0.238294   0.431814    -0.436174            0.868927  \n",
       "4     0.760141   0.992547    -1.364043           -0.766737  "
      ]
     },
     "execution_count": 78,
     "metadata": {},
     "output_type": "execute_result"
    }
   ],
   "source": [
    "## Load Test Data\n",
    "ANSUR_TEST_FILE = \"https://raw.githubusercontent.com/PSAM-5020-2025S-A/5020-utils/main/datasets/json/ansur-test.json\"\n",
    "\n",
    "ansur_test_data = object_from_json_url(ANSUR_TEST_FILE)\n",
    "ansur_test_df = pd.json_normalize(ansur_test_data)\n",
    "\n",
    "ansur_test_encoded_df = ansur_test_df.copy()\n",
    "\n",
    "g_vals = ansur_encoder.transform(ansur_test_df[[\"gender\"]].values)\n",
    "ansur_test_encoded_df[[\"gender\"]] = g_vals\n",
    "\n",
    "ansur_test_scaled_df = ansur_scalar.transform(ansur_test_encoded_df)\n",
    "ansur_test_scaled_df.head()"
   ]
  },
  {
   "cell_type": "code",
   "execution_count": 79,
   "metadata": {
    "tags": [
     "work_cell"
    ]
   },
   "outputs": [
    {
     "name": "stdout",
     "output_type": "stream",
     "text": [
      "error, 14.473238058423496\n"
     ]
    },
    {
     "data": {
      "image/png": "[encoded data removed]",
      "text/plain": [
       "<Figure size 640x480 with 1 Axes>"
      ]
     },
     "metadata": {},
     "output_type": "display_data"
    }
   ],
   "source": [
    "## Run model on test data\n",
    "predicted_scaled = model.predict(ansur_test_scaled_df[feature_names])\n",
    "predicted = ansur_scalar.inverse_transform(predicted_scaled) #unnormalize\n",
    "\n",
    "\n",
    "## Measure error on test data\n",
    "error = regression_error(ansur_test_df['head.circumference'], predicted['head.circumference'])\n",
    "print('error,',error)\n",
    "\n",
    "## Plot predictions and interpret results\n",
    "original = ansur_test_df[\"head.circumference\"]\n",
    "predicted = predicted[\"head.circumference\"]\n",
    "plt.plot(sorted(original), marker='o', linestyle='', alpha=0.3)\n",
    "plt.plot(sorted(predicted), marker='o', linestyle='', alpha=0.1)\n",
    "plt.ylabel(\"head circ\")\n",
    "plt.show()"
   ]
  },
  {
   "cell_type": "markdown",
   "metadata": {},
   "source": [
    "### Interpretation\n",
    "\n",
    "<span style=\"color:hotpink;\">\n",
    "How well does your model perform?<br>\n",
    "How could you improve it?<br>\n",
    "Are there ranges of circumferences that don't get predicted well?\n",
    "</span>"
   ]
  },
  {
   "cell_type": "markdown",
   "metadata": {
    "tags": [
     "work_cell"
    ]
   },
   "source": [
    "<span style=\"color:hotpink;\">The model performed well, we can see that the training error is a little lower than the test error, but its not so much that I would suspect overfitting. I wonder if only using the more correlated values could lead to a better model. Do things like age just add noise, etc? The circumference is predicted relatively well for more middle ranged valuesm but does less good on outliers.</span>"
   ]
  }
 ],
 "metadata": {
  "colab": {
   "authorship_tag": "ABX9TyPxe2qYxIG7EblrvD1C4Pmv",
   "provenance": []
  },
  "kernelspec": {
   "display_name": "Python 3",
   "language": "python",
   "name": "python3"
  },
  "language_info": {
   "codemirror_mode": {
    "name": "ipython",
    "version": 3
   },
   "file_extension": ".py",
   "mimetype": "text/x-python",
   "name": "python",
   "nbconvert_exporter": "python",
   "pygments_lexer": "ipython3",
   "version": "3.10.16"
  }
 },
 "nbformat": 4,
 "nbformat_minor": 0
}
